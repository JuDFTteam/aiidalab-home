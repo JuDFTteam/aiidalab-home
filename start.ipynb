{
 "cells": [
  {
   "cell_type": "markdown",
   "metadata": {},
   "source": [
    "# Materials Cloud Launcher"
   ]
  },
  {
   "cell_type": "code",
   "execution_count": null,
   "metadata": {},
   "outputs": [],
   "source": [
    "import json\n",
    "from os import path\n",
    "from glob import glob\n",
    "import ipywidgets as ipw\n",
    "from pprint import pformat\n",
    "from markdown import markdown\n",
    "from IPython.display import clear_output, Markdown"
   ]
  },
  {
   "cell_type": "code",
   "execution_count": null,
   "metadata": {},
   "outputs": [],
   "source": [
    "def render():\n",
    "    clear_output()\n",
    "    apps = load_apps()\n",
    "    config = read_config()\n",
    "    for name in apps:\n",
    "        accordion = mk_accordion(name)\n",
    "        accordion.selected_index = None if name in config['hidden'] else 0\n",
    "        display(accordion)"
   ]
  },
  {
   "cell_type": "code",
   "execution_count": null,
   "metadata": {},
   "outputs": [],
   "source": [
    "def mk_accordion(name):\n",
    "    html = ipw.HTML(load_html(name), layout=ipw.Layout(width=\"1000px\"))\n",
    "    btn_box = mk_buttons(name)\n",
    "    box = ipw.HBox([html, btn_box])\n",
    "    accordion = ipw.Accordion(children=[box])\n",
    "    title = load_title(name)\n",
    "    accordion.set_title(0, title)\n",
    "    #def on_change(c):\n",
    "    #    record_showhide(name, accordion.selected_index==0)\n",
    "    on_change = lambda c: record_showhide(name, accordion.selected_index==0)\n",
    "    accordion.observe(on_change, names=\"selected_index\")\n",
    "    return accordion"
   ]
  },
  {
   "cell_type": "code",
   "execution_count": null,
   "metadata": {},
   "outputs": [],
   "source": [
    "def load_title(name):\n",
    "    try:\n",
    "        fn = \"/project/apps/%s/metadata.json\"%name\n",
    "        metadata = json.load(open(fn))\n",
    "        title = metadata['title']\n",
    "    except:\n",
    "        title = \"%s (couldn't load title)\"%s\n",
    "    return title"
   ]
  },
  {
   "cell_type": "code",
   "execution_count": null,
   "metadata": {},
   "outputs": [],
   "source": [
    "def load_apps():\n",
    "    apps = [path.basename(fn) for fn in glob(\"/project/apps/*\") if path.isdir(fn)]\n",
    "    config = read_config()\n",
    "    order = config['order']\n",
    "    apps.sort(key=lambda x: order.index(x) if x in order else -1)\n",
    "    config['order'] = apps\n",
    "    write_config(config)\n",
    "    return apps"
   ]
  },
  {
   "cell_type": "code",
   "execution_count": null,
   "metadata": {},
   "outputs": [],
   "source": [
    "def load_html(name):\n",
    "    try:\n",
    "        fn = \"/project/apps/%s/start.md\"%name\n",
    "        md_src = open(fn).read()\n",
    "        md_src = md_src.replace(\"](./\", \"](../%s/\"%name)\n",
    "        html = markdown(md_src)\n",
    "        \n",
    "        # open links in new window/tab\n",
    "        html = html.replace('<a ', '<a target=\"_blank\" ')\n",
    "        \n",
    "        # downsize headings\n",
    "        html = html.replace(\"<h3\", \"<h4\")\n",
    "        \n",
    "    except:\n",
    "        html = \"Could not load start.md\"\n",
    "    return html"
   ]
  },
  {
   "cell_type": "code",
   "execution_count": null,
   "metadata": {},
   "outputs": [],
   "source": [
    "def mk_buttons(name):\n",
    "    layout = ipw.Layout(width=\"40px\")\n",
    "    btn_up   = ipw.Button(description=u\"▲\", layout=layout)\n",
    "    btn_up.on_click(lambda b: move_updown(name, -1))\n",
    "    btn_down = ipw.Button(description=u\"▼\", layout=layout)\n",
    "    btn_down.on_click(lambda b: move_updown(name, +1))\n",
    "    btn_box = ipw.VBox([btn_up, btn_down])\n",
    "    return(btn_box)"
   ]
  },
  {
   "cell_type": "code",
   "execution_count": null,
   "metadata": {},
   "outputs": [],
   "source": [
    "def move_updown(name, delta):\n",
    "    config = read_config()\n",
    "    order = config['order']\n",
    "    n = len(order)\n",
    "    i = order.index(name)\n",
    "    del(order[i])\n",
    "    j = min(n-1, max(0, i + delta))\n",
    "    order.insert(j, name)\n",
    "    config['order'] = order\n",
    "    write_config(config)\n",
    "    render()"
   ]
  },
  {
   "cell_type": "code",
   "execution_count": null,
   "metadata": {},
   "outputs": [],
   "source": [
    "def record_showhide(name, visible):\n",
    "    config = read_config()\n",
    "    if visible:\n",
    "        config['hidden'].discard(name)\n",
    "    else:\n",
    "        config['hidden'].add(name)\n",
    "    write_config(config)"
   ]
  },
  {
   "cell_type": "code",
   "execution_count": null,
   "metadata": {},
   "outputs": [],
   "source": [
    "CONFIG_FN = \".appmanager.conf\"\n",
    "def read_config():\n",
    "    if path.exists(CONFIG_FN):\n",
    "        return eval(open(CONFIG_FN).read())\n",
    "    else:\n",
    "        return {'order':[], 'hidden':set()} #default config\n",
    "\n",
    "def write_config(config):\n",
    "    with open(CONFIG_FN, \"w\") as f:\n",
    "        f.write(pformat(config))"
   ]
  },
  {
   "cell_type": "code",
   "execution_count": null,
   "metadata": {},
   "outputs": [],
   "source": [
    "#start the app\n",
    "render()"
   ]
  }
 ],
 "metadata": {
  "kernelspec": {
   "display_name": "Python 2",
   "language": "python",
   "name": "python2"
  },
  "language_info": {
   "codemirror_mode": {
    "name": "ipython",
    "version": 2
   },
   "file_extension": ".py",
   "mimetype": "text/x-python",
   "name": "python",
   "nbconvert_exporter": "python",
   "pygments_lexer": "ipython2",
   "version": "2.7.13"
  }
 },
 "nbformat": 4,
 "nbformat_minor": 2
}
