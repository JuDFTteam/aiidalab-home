{
 "cells": [
  {
   "cell_type": "markdown",
   "metadata": {},
   "source": [
    "# Application Manager"
   ]
  },
  {
   "cell_type": "code",
   "execution_count": null,
   "metadata": {},
   "outputs": [],
   "source": [
    "from time import sleep\n",
    "import requests\n",
    "import ipywidgets as ipw\n",
    "from os import path\n",
    "import subprocess\n",
    "from collections import OrderedDict\n",
    "from IPython.display import clear_output"
   ]
  },
  {
   "cell_type": "code",
   "execution_count": null,
   "metadata": {},
   "outputs": [],
   "source": [
    "# load registry\n",
    "registry_url = 'https://raw.githubusercontent.com/materialscloud-org/mc-registry/master/apps.json'\n",
    "registry = requests.get(registry_url).json()"
   ]
  },
  {
   "cell_type": "code",
   "execution_count": null,
   "metadata": {},
   "outputs": [],
   "source": [
    "def get_appdir(name):\n",
    "    return \"/project/apps/\"+name"
   ]
  },
  {
   "cell_type": "code",
   "execution_count": null,
   "metadata": {},
   "outputs": [],
   "source": [
    "def update_app_list():\n",
    "    selected = app_select.value\n",
    "    app_select.value = None\n",
    "    options = OrderedDict()\n",
    "    for name in sorted(registry.keys()):\n",
    "        label = name\n",
    "        if path.exists(get_appdir(name)):\n",
    "            label += \" (installed)\"\n",
    "        options[label] = name\n",
    "    app_select.options = options\n",
    "    app_select.value = selected"
   ]
  },
  {
   "cell_type": "code",
   "execution_count": null,
   "metadata": {
    "scrolled": false
   },
   "outputs": [],
   "source": [
    "def on_app_change(c):\n",
    "    with out_app:\n",
    "        clear_output()\n",
    "        if app_select.value:\n",
    "            display_app_box(app_select.value)\n",
    "\n",
    "app_select = ipw.Select()\n",
    "update_app_list()\n",
    "app_select.observe(on_app_change, names='value')\n",
    "\n",
    "out_app = ipw.Output()\n",
    "display(app_select, out_app)"
   ]
  },
  {
   "cell_type": "code",
   "execution_count": null,
   "metadata": {},
   "outputs": [],
   "source": [
    "def display_app_box(name):\n",
    "    print(\"Name: \"+name)\n",
    "    git_url = registry[name]['git_url']\n",
    "    print(\"URL: \"+git_url)\n",
    "    meta_url = registry[name]['meta_url']\n",
    "    metadata = requests.get(meta_url).json()\n",
    "    print(\"Description: \"+metadata['description'])\n",
    "    \n",
    "    if not path.exists(get_appdir(name)):\n",
    "        btn = ipw.Button(description=\"install\")\n",
    "        btn.on_click(lambda b: install_app(name))   \n",
    "        display(btn)\n",
    "    else:\n",
    "        ver_sel = mk_version_selector(name)\n",
    "        btn = ipw.Button(description=\"remove\")\n",
    "        btn.on_click(lambda b: remove_app(name))\n",
    "        display(ipw. HBox([btn, ver_sel]))\n",
    "\n",
    "    btn.disabled = name == \"home\""
   ]
  },
  {
   "cell_type": "code",
   "execution_count": null,
   "metadata": {},
   "outputs": [],
   "source": [
    "def mk_version_selector(name):\n",
    "    git_url = registry[name]['git_url']\n",
    "    appdir = get_appdir(name)\n",
    "    ! git -C $appdir fetch --prune --quiet\n",
    "    \n",
    "    \n",
    "    ref_lines = ! git -C $appdir show-ref\n",
    "    options = {}\n",
    "    for line in ref_lines:\n",
    "        commit, ref = line.split()\n",
    "        options[ref] = commit\n",
    "\n",
    "    head_lines = ! git -C $appdir rev-parse HEAD\n",
    "    head = head_lines[0]\n",
    "    if head not in options.values():\n",
    "        options[head] = head\n",
    "    print(\"head:\"+head)\n",
    "    print(\"appdir: \"+appdir)\n",
    "    ref_drop = ipw.Dropdown(description=\"Version:\", options=options, value=head)\n",
    "    def on_ref_change(c):\n",
    "        change_ref(name, ref_drop.value)\n",
    "    ref_drop.observe(on_ref_change, names='value')\n",
    "    \n",
    "    return(ref_drop)"
   ]
  },
  {
   "cell_type": "code",
   "execution_count": null,
   "metadata": {},
   "outputs": [],
   "source": [
    "def change_ref(name, commit):\n",
    "    print(\"Changing version of app %s...\"%name)\n",
    "    appdir = get_appdir(name)\n",
    "    ! git -C $appdir checkout --quiet $commit\n",
    "    sleep(1)\n",
    "    update_app_list()"
   ]
  },
  {
   "cell_type": "code",
   "execution_count": null,
   "metadata": {},
   "outputs": [],
   "source": [
    "def install_app(name):\n",
    "    print(\"Installing app %s...\"%name)\n",
    "    assert name != \"home\"\n",
    "    git_url = registry[name][\"git_url\"]\n",
    "    appdir = get_appdir(name)\n",
    "    ! git clone --quiet $git_url $appdir\n",
    "    #TODO maybe call \"jupyter trust\" on all notebooks\n",
    "    sleep(1)\n",
    "    update_app_list()"
   ]
  },
  {
   "cell_type": "code",
   "execution_count": null,
   "metadata": {},
   "outputs": [],
   "source": [
    "def remove_app(name):\n",
    "    print(\"Removing app %s...\"%name)\n",
    "    assert name != \"home\"\n",
    "    appdir = get_appdir(name)\n",
    "    ! rm -rf $appdir\n",
    "    sleep(1)\n",
    "    update_app_list()"
   ]
  },
  {
   "cell_type": "code",
   "execution_count": null,
   "metadata": {},
   "outputs": [],
   "source": [
    "%%html\n",
    "<a href=\"./start.ipynb\"><button>Return to Launcher</button></a>"
   ]
  }
 ],
 "metadata": {
  "kernelspec": {
   "display_name": "Python 2",
   "language": "python",
   "name": "python2"
  },
  "language_info": {
   "codemirror_mode": {
    "name": "ipython",
    "version": 2
   },
   "file_extension": ".py",
   "mimetype": "text/x-python",
   "name": "python",
   "nbconvert_exporter": "python",
   "pygments_lexer": "ipython2",
   "version": "2.7.13"
  }
 },
 "nbformat": 4,
 "nbformat_minor": 2
}
